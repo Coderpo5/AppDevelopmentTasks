{
  "nbformat": 4,
  "nbformat_minor": 0,
  "metadata": {
    "colab": {
      "provenance": [],
      "authorship_tag": "ABX9TyNHmA0W5DIjcEO19CcU5JZ9",
      "include_colab_link": true
    },
    "kernelspec": {
      "name": "python3",
      "display_name": "Python 3"
    },
    "language_info": {
      "name": "python"
    }
  },
  "cells": [
    {
      "cell_type": "markdown",
      "metadata": {
        "id": "view-in-github",
        "colab_type": "text"
      },
      "source": [
        "<a href=\"https://colab.research.google.com/github/Coderpo5/AppDevelopmentTasks/blob/main/EquinoxPS.ipynb\" target=\"_parent\"><img src=\"https://colab.research.google.com/assets/colab-badge.svg\" alt=\"Open In Colab\"/></a>"
      ]
    },
    {
      "cell_type": "code",
      "execution_count": null,
      "metadata": {
        "colab": {
          "base_uri": "https://localhost:8080/"
        },
        "id": "ytO0w9odAHVj",
        "outputId": "45b44f8a-4382-4d80-b395-a1bce63d74ae"
      },
      "outputs": [
        {
          "output_type": "stream",
          "name": "stdout",
          "text": [
            "Collecting pycbc\n",
            "  Downloading PyCBC-2.4.0-cp310-cp310-manylinux_2_17_x86_64.manylinux2014_x86_64.whl (8.4 MB)\n",
            "\u001b[2K     \u001b[90m━━━━━━━━━━━━━━━━━━━━━━━━━━━━━━━━━━━━━━━━\u001b[0m \u001b[32m8.4/8.4 MB\u001b[0m \u001b[31m16.8 MB/s\u001b[0m eta \u001b[36m0:00:00\u001b[0m\n",
            "\u001b[?25hRequirement already satisfied: numpy>=1.16.0 in /usr/local/lib/python3.10/dist-packages (from pycbc) (1.23.5)\n",
            "Requirement already satisfied: cython>=0.29 in /usr/local/lib/python3.10/dist-packages (from pycbc) (3.0.8)\n",
            "Requirement already satisfied: scipy>=0.16.0 in /usr/local/lib/python3.10/dist-packages (from pycbc) (1.11.4)\n",
            "Requirement already satisfied: astropy!=4.0.5,!=4.2.1,>=2.0.3 in /usr/local/lib/python3.10/dist-packages (from pycbc) (5.3.4)\n",
            "Requirement already satisfied: matplotlib>=1.5.1 in /usr/local/lib/python3.10/dist-packages (from pycbc) (3.7.1)\n",
            "Collecting mpld3>=0.3 (from pycbc)\n",
            "  Downloading mpld3-0.5.10-py3-none-any.whl (202 kB)\n",
            "\u001b[2K     \u001b[90m━━━━━━━━━━━━━━━━━━━━━━━━━━━━━━━━━━━━━━━━\u001b[0m \u001b[32m202.6/202.6 kB\u001b[0m \u001b[31m21.2 MB/s\u001b[0m eta \u001b[36m0:00:00\u001b[0m\n",
            "\u001b[?25hRequirement already satisfied: pillow in /usr/local/lib/python3.10/dist-packages (from pycbc) (9.4.0)\n",
            "Requirement already satisfied: h5py!=3.7.0,>=3.0.0 in /usr/local/lib/python3.10/dist-packages (from pycbc) (3.9.0)\n",
            "Requirement already satisfied: jinja2 in /usr/local/lib/python3.10/dist-packages (from pycbc) (3.1.3)\n",
            "Collecting Mako>=1.0.1 (from pycbc)\n",
            "  Downloading Mako-1.3.2-py3-none-any.whl (78 kB)\n",
            "\u001b[2K     \u001b[90m━━━━━━━━━━━━━━━━━━━━━━━━━━━━━━━━━━━━━━━━\u001b[0m \u001b[32m78.7/78.7 kB\u001b[0m \u001b[31m8.3 MB/s\u001b[0m eta \u001b[36m0:00:00\u001b[0m\n",
            "\u001b[?25hRequirement already satisfied: beautifulsoup4>=4.6.0 in /usr/local/lib/python3.10/dist-packages (from pycbc) (4.12.3)\n",
            "Requirement already satisfied: tqdm in /usr/local/lib/python3.10/dist-packages (from pycbc) (4.66.1)\n",
            "Requirement already satisfied: setuptools in /usr/local/lib/python3.10/dist-packages (from pycbc) (67.7.2)\n",
            "Collecting gwdatafind (from pycbc)\n",
            "  Downloading gwdatafind-1.2.0-py3-none-any.whl (45 kB)\n",
            "\u001b[2K     \u001b[90m━━━━━━━━━━━━━━━━━━━━━━━━━━━━━━━━━━━━━━━━\u001b[0m \u001b[32m45.5/45.5 kB\u001b[0m \u001b[31m4.7 MB/s\u001b[0m eta \u001b[36m0:00:00\u001b[0m\n",
            "\u001b[?25hCollecting pegasus-wms.api>=5.0.6 (from pycbc)\n",
            "  Downloading pegasus-wms.api-5.0.6.tar.gz (47 kB)\n",
            "\u001b[2K     \u001b[90m━━━━━━━━━━━━━━━━━━━━━━━━━━━━━━━━━━━━━━━━\u001b[0m \u001b[32m47.2/47.2 kB\u001b[0m \u001b[31m5.0 MB/s\u001b[0m eta \u001b[36m0:00:00\u001b[0m\n",
            "\u001b[?25h  Installing build dependencies ... \u001b[?25l\u001b[?25hdone\n",
            "  Getting requirements to build wheel ... \u001b[?25l\u001b[?25hdone\n",
            "  Preparing metadata (pyproject.toml) ... \u001b[?25l\u001b[?25hdone\n",
            "Collecting python-ligo-lw>=1.7.0 (from pycbc)\n",
            "  Downloading python-ligo-lw-1.8.3.tar.gz (2.3 MB)\n",
            "\u001b[2K     \u001b[90m━━━━━━━━━━━━━━━━━━━━━━━━━━━━━━━━━━━━━━━━\u001b[0m \u001b[32m2.3/2.3 MB\u001b[0m \u001b[31m31.9 MB/s\u001b[0m eta \u001b[36m0:00:00\u001b[0m\n",
            "\u001b[?25h  Preparing metadata (setup.py) ... \u001b[?25l\u001b[?25hdone\n",
            "Collecting ligo-segments (from pycbc)\n",
            "  Downloading ligo-segments-1.4.0.tar.gz (51 kB)\n",
            "\u001b[2K     \u001b[90m━━━━━━━━━━━━━━━━━━━━━━━━━━━━━━━━━━━━━━━━\u001b[0m \u001b[32m51.0/51.0 kB\u001b[0m \u001b[31m4.9 MB/s\u001b[0m eta \u001b[36m0:00:00\u001b[0m\n",
            "\u001b[?25h  Preparing metadata (setup.py) ... \u001b[?25l\u001b[?25hdone\n",
            "Collecting lalsuite!=7.2 (from pycbc)\n",
            "  Downloading lalsuite-7.21-cp310-cp310-manylinux_2_28_x86_64.whl (43.1 MB)\n",
            "\u001b[2K     \u001b[90m━━━━━━━━━━━━━━━━━━━━━━━━━━━━━━━━━━━━━━━━\u001b[0m \u001b[32m43.1/43.1 MB\u001b[0m \u001b[31m9.4 MB/s\u001b[0m eta \u001b[36m0:00:00\u001b[0m\n",
            "\u001b[?25hCollecting lscsoft-glue>=1.59.3 (from pycbc)\n",
            "  Downloading lscsoft-glue-3.0.2.tar.gz (1.4 MB)\n",
            "\u001b[2K     \u001b[90m━━━━━━━━━━━━━━━━━━━━━━━━━━━━━━━━━━━━━━━━\u001b[0m \u001b[32m1.4/1.4 MB\u001b[0m \u001b[31m44.8 MB/s\u001b[0m eta \u001b[36m0:00:00\u001b[0m\n",
            "\u001b[?25h  Installing build dependencies ... \u001b[?25l\u001b[?25hdone\n",
            "  Getting requirements to build wheel ... \u001b[?25l\u001b[?25hdone\n",
            "  Preparing metadata (pyproject.toml) ... \u001b[?25l\u001b[?25hdone\n",
            "Collecting pykerr (from pycbc)\n",
            "  Downloading pykerr-0.1.0-py3-none-any.whl (48.1 MB)\n",
            "\u001b[2K     \u001b[90m━━━━━━━━━━━━━━━━━━━━━━━━━━━━━━━━━━━━━━━━\u001b[0m \u001b[32m48.1/48.1 MB\u001b[0m \u001b[31m10.1 MB/s\u001b[0m eta \u001b[36m0:00:00\u001b[0m\n",
            "\u001b[?25hRequirement already satisfied: pyerfa>=2.0 in /usr/local/lib/python3.10/dist-packages (from astropy!=4.0.5,!=4.2.1,>=2.0.3->pycbc) (2.0.1.1)\n",
            "Requirement already satisfied: PyYAML>=3.13 in /usr/local/lib/python3.10/dist-packages (from astropy!=4.0.5,!=4.2.1,>=2.0.3->pycbc) (6.0.1)\n",
            "Requirement already satisfied: packaging>=19.0 in /usr/local/lib/python3.10/dist-packages (from astropy!=4.0.5,!=4.2.1,>=2.0.3->pycbc) (23.2)\n",
            "Requirement already satisfied: soupsieve>1.2 in /usr/local/lib/python3.10/dist-packages (from beautifulsoup4>=4.6.0->pycbc) (2.5)\n",
            "Requirement already satisfied: python-dateutil in /usr/local/lib/python3.10/dist-packages (from lalsuite!=7.2->pycbc) (2.8.2)\n",
            "Requirement already satisfied: pyOpenSSL in /usr/local/lib/python3.10/dist-packages (from lscsoft-glue>=1.59.3->pycbc) (24.0.0)\n",
            "Collecting pyRXP (from lscsoft-glue>=1.59.3->pycbc)\n",
            "  Downloading pyRXP-3.0.1-cp310-cp310-manylinux_2_12_x86_64.manylinux2010_x86_64.whl (298 kB)\n",
            "\u001b[2K     \u001b[90m━━━━━━━━━━━━━━━━━━━━━━━━━━━━━━━━━━━━━━━━\u001b[0m \u001b[32m298.1/298.1 kB\u001b[0m \u001b[31m24.1 MB/s\u001b[0m eta \u001b[36m0:00:00\u001b[0m\n",
            "\u001b[?25hRequirement already satisfied: six in /usr/local/lib/python3.10/dist-packages (from lscsoft-glue>=1.59.3->pycbc) (1.16.0)\n",
            "Requirement already satisfied: MarkupSafe>=0.9.2 in /usr/local/lib/python3.10/dist-packages (from Mako>=1.0.1->pycbc) (2.1.4)\n",
            "Requirement already satisfied: contourpy>=1.0.1 in /usr/local/lib/python3.10/dist-packages (from matplotlib>=1.5.1->pycbc) (1.2.0)\n",
            "Requirement already satisfied: cycler>=0.10 in /usr/local/lib/python3.10/dist-packages (from matplotlib>=1.5.1->pycbc) (0.12.1)\n",
            "Requirement already satisfied: fonttools>=4.22.0 in /usr/local/lib/python3.10/dist-packages (from matplotlib>=1.5.1->pycbc) (4.47.2)\n",
            "Requirement already satisfied: kiwisolver>=1.0.1 in /usr/local/lib/python3.10/dist-packages (from matplotlib>=1.5.1->pycbc) (1.4.5)\n",
            "Requirement already satisfied: pyparsing>=2.3.1 in /usr/local/lib/python3.10/dist-packages (from matplotlib>=1.5.1->pycbc) (3.1.1)\n",
            "Collecting pegasus-wms.common (from pegasus-wms.api>=5.0.6->pycbc)\n",
            "  Downloading pegasus-wms.common-5.0.6.tar.gz (47 kB)\n",
            "\u001b[2K     \u001b[90m━━━━━━━━━━━━━━━━━━━━━━━━━━━━━━━━━━━━━━━━\u001b[0m \u001b[32m47.1/47.1 kB\u001b[0m \u001b[31m3.9 MB/s\u001b[0m eta \u001b[36m0:00:00\u001b[0m\n",
            "\u001b[?25h  Installing build dependencies ... \u001b[?25l\u001b[?25hdone\n",
            "  Getting requirements to build wheel ... \u001b[?25l\u001b[?25hdone\n",
            "  Preparing metadata (pyproject.toml) ... \u001b[?25l\u001b[?25hdone\n",
            "Collecting igwn-auth-utils>=0.3.1 (from gwdatafind->pycbc)\n",
            "  Downloading igwn_auth_utils-1.1.0-py3-none-any.whl (26 kB)\n",
            "Requirement already satisfied: cryptography>=2.3 in /usr/local/lib/python3.10/dist-packages (from igwn-auth-utils>=0.3.1->gwdatafind->pycbc) (42.0.2)\n",
            "Requirement already satisfied: requests>=2.14 in /usr/local/lib/python3.10/dist-packages (from igwn-auth-utils>=0.3.1->gwdatafind->pycbc) (2.31.0)\n",
            "Collecting safe-netrc>=1.0.0 (from igwn-auth-utils>=0.3.1->gwdatafind->pycbc)\n",
            "  Downloading safe_netrc-1.0.1-py3-none-any.whl (10 kB)\n",
            "Collecting scitokens>=1.7.0 (from igwn-auth-utils>=0.3.1->gwdatafind->pycbc)\n",
            "  Downloading scitokens-1.8.1-py3-none-any.whl (31 kB)\n",
            "Requirement already satisfied: cffi>=1.12 in /usr/local/lib/python3.10/dist-packages (from cryptography>=2.3->igwn-auth-utils>=0.3.1->gwdatafind->pycbc) (1.16.0)\n",
            "Requirement already satisfied: charset-normalizer<4,>=2 in /usr/local/lib/python3.10/dist-packages (from requests>=2.14->igwn-auth-utils>=0.3.1->gwdatafind->pycbc) (3.3.2)\n",
            "Requirement already satisfied: idna<4,>=2.5 in /usr/local/lib/python3.10/dist-packages (from requests>=2.14->igwn-auth-utils>=0.3.1->gwdatafind->pycbc) (3.6)\n",
            "Requirement already satisfied: urllib3<3,>=1.21.1 in /usr/local/lib/python3.10/dist-packages (from requests>=2.14->igwn-auth-utils>=0.3.1->gwdatafind->pycbc) (2.0.7)\n",
            "Requirement already satisfied: certifi>=2017.4.17 in /usr/local/lib/python3.10/dist-packages (from requests>=2.14->igwn-auth-utils>=0.3.1->gwdatafind->pycbc) (2023.11.17)\n",
            "Requirement already satisfied: PyJWT>=1.6.1 in /usr/lib/python3/dist-packages (from scitokens>=1.7.0->igwn-auth-utils>=0.3.1->gwdatafind->pycbc) (2.3.0)\n",
            "Requirement already satisfied: pycparser in /usr/local/lib/python3.10/dist-packages (from cffi>=1.12->cryptography>=2.3->igwn-auth-utils>=0.3.1->gwdatafind->pycbc) (2.21)\n",
            "Building wheels for collected packages: lscsoft-glue, pegasus-wms.api, python-ligo-lw, ligo-segments, pegasus-wms.common\n",
            "  Building wheel for lscsoft-glue (pyproject.toml) ... \u001b[?25l\u001b[?25hdone\n",
            "  Created wheel for lscsoft-glue: filename=lscsoft_glue-3.0.2-cp310-cp310-linux_x86_64.whl size=247090 sha256=bcf733cebec4f172995cbf80c97e15216a6ba89f5120787e83e13ed11d3fcd50\n",
            "  Stored in directory: /root/.cache/pip/wheels/50/de/4b/0978a5ac19a6251dc5a09861af13574312f3c1c15219cb2962\n",
            "  Building wheel for pegasus-wms.api (pyproject.toml) ... \u001b[?25l\u001b[?25hdone\n",
            "  Created wheel for pegasus-wms.api: filename=pegasus_wms.api-5.0.6-py3-none-any.whl size=50065 sha256=13f80d443c7bd2c64f5ceb6a318d643f094b85fd09278f39d8d5f21c7fc87dae\n",
            "  Stored in directory: /root/.cache/pip/wheels/4f/76/84/81fd82d7a107da5e1efe55878728c0c2a1de8d50c907ac8851\n",
            "  Building wheel for python-ligo-lw (setup.py) ... \u001b[?25l\u001b[?25hdone\n",
            "  Created wheel for python-ligo-lw: filename=python_ligo_lw-1.8.3-cp310-cp310-linux_x86_64.whl size=155116 sha256=d4dee6fa525f8d1d2e4955163edffa3e987c3b11d085d71545258204cccb9ae4\n",
            "  Stored in directory: /root/.cache/pip/wheels/56/47/e8/75b3e1cf390f9b408944a7914964f73eb932b0cfb739c9ed1d\n",
            "  Building wheel for ligo-segments (setup.py) ... \u001b[?25l\u001b[?25hdone\n",
            "  Created wheel for ligo-segments: filename=ligo_segments-1.4.0-cp310-cp310-linux_x86_64.whl size=99252 sha256=3c42e3cbb9e213d9d179dfb85f775391d9497c0c79995c0f1785e1d3f08f0223\n",
            "  Stored in directory: /root/.cache/pip/wheels/6d/48/d1/3466977be4e41ba57f92ad0d5619f083df43cf319a151c4e06\n",
            "  Building wheel for pegasus-wms.common (pyproject.toml) ... \u001b[?25l\u001b[?25hdone\n",
            "  Created wheel for pegasus-wms.common: filename=pegasus_wms.common-5.0.6-py3-none-any.whl size=50816 sha256=a4da27cf305e3279ea417bde1fcda315b62aa681a2fd0925495b932cd6a9b141\n",
            "  Stored in directory: /root/.cache/pip/wheels/0b/62/b8/c751cda2a8e09c812fe9dbc36abbe8980bd29576d9e449b37a\n",
            "Successfully built lscsoft-glue pegasus-wms.api python-ligo-lw ligo-segments pegasus-wms.common\n",
            "Installing collected packages: safe-netrc, pyRXP, pegasus-wms.common, Mako, ligo-segments, pykerr, pegasus-wms.api, scitokens, mpld3, lscsoft-glue, igwn-auth-utils, python-ligo-lw, lalsuite, gwdatafind, pycbc\n",
            "Successfully installed Mako-1.3.2 gwdatafind-1.2.0 igwn-auth-utils-1.1.0 lalsuite-7.21 ligo-segments-1.4.0 lscsoft-glue-3.0.2 mpld3-0.5.10 pegasus-wms.api-5.0.6 pegasus-wms.common-5.0.6 pyRXP-3.0.1 pycbc-2.4.0 pykerr-0.1.0 python-ligo-lw-1.8.3 safe-netrc-1.0.1 scitokens-1.8.1\n"
          ]
        }
      ],
      "source": [
        "!pip install pycbc"
      ]
    },
    {
      "cell_type": "code",
      "source": [
        "import pycbc"
      ],
      "metadata": {
        "colab": {
          "base_uri": "https://localhost:8080/"
        },
        "id": "QkeLOJkOALAN",
        "outputId": "8544797a-097f-4258-bbcb-d8503efcfda2"
      },
      "execution_count": null,
      "outputs": [
        {
          "output_type": "stream",
          "name": "stderr",
          "text": [
            "/usr/local/lib/python3.10/dist-packages/pycbc/types/array.py:36: UserWarning: Wswiglal-redir-stdio:\n",
            "\n",
            "SWIGLAL standard output/error redirection is enabled in IPython.\n",
            "This may lead to performance penalties. To disable locally, use:\n",
            "\n",
            "with lal.no_swig_redirect_standard_output_error():\n",
            "    ...\n",
            "\n",
            "To disable globally, use:\n",
            "\n",
            "lal.swig_redirect_standard_output_error(True)\n",
            "\n",
            "Note however that this will likely lead to error messages from\n",
            "LAL functions being either misdirected or lost when called from\n",
            "Jupyter notebooks.\n",
            "\n",
            "To suppress this warning, use:\n",
            "\n",
            "import warnings\n",
            "warnings.filterwarnings(\"ignore\", \"Wswiglal-redir-stdio\")\n",
            "import lal\n",
            "\n",
            "  import lal as _lal\n"
          ]
        }
      ]
    },
    {
      "cell_type": "code",
      "source": [
        "data = pycbc.types.timeseries.load_timeseries('/content/GW150914_strain_data_final.txt')"
      ],
      "metadata": {
        "id": "EWpqugBZAhq3"
      },
      "execution_count": null,
      "outputs": []
    },
    {
      "cell_type": "code",
      "source": [
        "def get_sample_times(data):\n",
        "        \"\"\"Return an Array containing the sample times.\n",
        "        \"\"\"\n",
        "        if data._epoch is None:\n",
        "            return Array(range(len(data))) * data._delta_t\n",
        "        else:\n",
        "            return Array(range(len(data))) * data._delta_t + float(data._epoch)\n",
        "        sample_times = property(get_sample_times,\n",
        "                            doc=\"/content/GW150914_strain_data_final.txt\")"
      ],
      "metadata": {
        "id": "vctQxnq3Atn_"
      },
      "execution_count": null,
      "outputs": []
    },
    {
      "cell_type": "code",
      "source": [
        "def plot(data, **kwds):\n",
        "        \"\"\" Basic plot of this time series\n",
        "        \"\"\"\n",
        "        from matplotlib import pyplot\n",
        "\n",
        "        if data.kind == 'real':\n",
        "            plot = pyplot.plot(data.sample_times, data, **kwds)\n",
        "            return plot\n",
        "        elif data.kind == 'complex':\n",
        "            plot1 = pyplot.plot(data.sample_times, data.real(), **kwds)\n",
        "            plot2 = pyplot.plot(data.sample_times, data.imag(), **kwds)\n",
        "            return plot1, plot2\n",
        "\n",
        "plot(data)"
      ],
      "metadata": {
        "colab": {
          "base_uri": "https://localhost:8080/",
          "height": 462
        },
        "id": "m0ZVKBtOCfqI",
        "outputId": "18f67e27-c8aa-4dbb-bfce-0f928b84880c"
      },
      "execution_count": null,
      "outputs": [
        {
          "output_type": "execute_result",
          "data": {
            "text/plain": [
              "[<matplotlib.lines.Line2D at 0x7891e4c62830>]"
            ]
          },
          "metadata": {},
          "execution_count": 8
        },
        {
          "output_type": "display_data",
          "data": {
            "text/plain": [
              "<Figure size 640x480 with 1 Axes>"
            ],
            "image/png": "[encoded data removed]"
          },
          "metadata": {}
        }
      ]
    },
    {
      "cell_type": "code",
      "source": [
        "import matplotlib.pyplot as pp\n",
        "from pycbc.waveform import get_td_waveform\n",
        "\n",
        "\n",
        "for apx in ['/content/GW150914_strain_data_final.txt', 'IMRPhenomD']:\n",
        "    hp, hc = get_td_waveform(approximant=apx,\n",
        "                                 mass1=10,\n",
        "                                 mass2=10,\n",
        "                                 spin1z=0.9,\n",
        "                                 delta_t=1.0/4096,\n",
        "                                 f_lower=40)\n",
        "\n",
        "    pp.plot(hp.sample_times, hp, label=apx)\n",
        "\n",
        "pp.ylabel('Strain')\n",
        "pp.xlabel('Time (s)')\n",
        "pp.legend()\n",
        "pp.show()"
      ],
      "metadata": {
        "colab": {
          "base_uri": "https://localhost:8080/",
          "height": 384
        },
        "id": "YBr29yF7FxKo",
        "outputId": "b83c1495-8327-485d-bae7-596ce3568e78"
      },
      "execution_count": null,
      "outputs": [
        {
          "output_type": "error",
          "ename": "ValueError",
          "evalue": "Approximant /content/GW150914_strain_data_final.txt not available",
          "traceback": [
            "\u001b[0;31m---------------------------------------------------------------------------\u001b[0m",
            "\u001b[0;31mValueError\u001b[0m                                Traceback (most recent call last)",
            "\u001b[0;32m<ipython-input-21-e5e66fe3f474>\u001b[0m in \u001b[0;36m<cell line: 5>\u001b[0;34m()\u001b[0m\n\u001b[1;32m      4\u001b[0m \u001b[0;34m\u001b[0m\u001b[0m\n\u001b[1;32m      5\u001b[0m \u001b[0;32mfor\u001b[0m \u001b[0mapx\u001b[0m \u001b[0;32min\u001b[0m \u001b[0;34m[\u001b[0m\u001b[0;34m'/content/GW150914_strain_data_final.txt'\u001b[0m\u001b[0;34m,\u001b[0m \u001b[0;34m'IMRPhenomD'\u001b[0m\u001b[0;34m]\u001b[0m\u001b[0;34m:\u001b[0m\u001b[0;34m\u001b[0m\u001b[0;34m\u001b[0m\u001b[0m\n\u001b[0;32m----> 6\u001b[0;31m     hp, hc = get_td_waveform(approximant=apx,\n\u001b[0m\u001b[1;32m      7\u001b[0m                                  \u001b[0mmass1\u001b[0m\u001b[0;34m=\u001b[0m\u001b[0;36m10\u001b[0m\u001b[0;34m,\u001b[0m\u001b[0;34m\u001b[0m\u001b[0;34m\u001b[0m\u001b[0m\n\u001b[1;32m      8\u001b[0m                                  \u001b[0mmass2\u001b[0m\u001b[0;34m=\u001b[0m\u001b[0;36m10\u001b[0m\u001b[0;34m,\u001b[0m\u001b[0;34m\u001b[0m\u001b[0;34m\u001b[0m\u001b[0m\n",
            "\u001b[0;32m/usr/local/lib/python3.10/dist-packages/pycbc/waveform/waveform.py\u001b[0m in \u001b[0;36mget_td_waveform\u001b[0;34m(template, **kwargs)\u001b[0m\n\u001b[1;32m    588\u001b[0m     \u001b[0mwav_gen\u001b[0m \u001b[0;34m=\u001b[0m \u001b[0mtd_wav\u001b[0m\u001b[0;34m[\u001b[0m\u001b[0mtype\u001b[0m\u001b[0;34m(\u001b[0m\u001b[0m_scheme\u001b[0m\u001b[0;34m.\u001b[0m\u001b[0mmgr\u001b[0m\u001b[0;34m.\u001b[0m\u001b[0mstate\u001b[0m\u001b[0;34m)\u001b[0m\u001b[0;34m]\u001b[0m\u001b[0;34m\u001b[0m\u001b[0;34m\u001b[0m\u001b[0m\n\u001b[1;32m    589\u001b[0m     \u001b[0;32mif\u001b[0m \u001b[0minput_params\u001b[0m\u001b[0;34m[\u001b[0m\u001b[0;34m'approximant'\u001b[0m\u001b[0;34m]\u001b[0m \u001b[0;32mnot\u001b[0m \u001b[0;32min\u001b[0m \u001b[0mwav_gen\u001b[0m\u001b[0;34m:\u001b[0m\u001b[0;34m\u001b[0m\u001b[0;34m\u001b[0m\u001b[0m\n\u001b[0;32m--> 590\u001b[0;31m         raise ValueError(\"Approximant %s not available\" %\n\u001b[0m\u001b[1;32m    591\u001b[0m                             (input_params['approximant']))\n\u001b[1;32m    592\u001b[0m     \u001b[0mwav_gen\u001b[0m \u001b[0;34m=\u001b[0m \u001b[0mwav_gen\u001b[0m\u001b[0;34m[\u001b[0m\u001b[0minput_params\u001b[0m\u001b[0;34m[\u001b[0m\u001b[0;34m'approximant'\u001b[0m\u001b[0;34m]\u001b[0m\u001b[0;34m]\u001b[0m\u001b[0;34m\u001b[0m\u001b[0;34m\u001b[0m\u001b[0m\n",
            "\u001b[0;31mValueError\u001b[0m: Approximant /content/GW150914_strain_data_final.txt not available"
          ]
        }
      ]
    },
    {
      "cell_type": "code",
      "source": [],
      "metadata": {
        "id": "NiO_szrrKz4t"
      },
      "execution_count": null,
      "outputs": []
    }
  ]
}